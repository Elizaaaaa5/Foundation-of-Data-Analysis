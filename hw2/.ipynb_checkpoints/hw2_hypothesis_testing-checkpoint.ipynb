{
 "cells": [
  {
   "cell_type": "markdown",
   "metadata": {},
   "source": [
    "## 1. Hypergeometric function"
   ]
  },
  {
   "cell_type": "code",
   "execution_count": 42,
   "metadata": {},
   "outputs": [],
   "source": [
    "# probability function for a hypergeometric random variable, X\n",
    "from scipy.special import comb\n",
    "def hypergeometric(N,K,n,k):\n",
    "    '''\n",
    "    Input:\n",
    "    N = number of available bits to select from\n",
    "    K = number of available bits that are 1\n",
    "    n = number of bits drawn at random\n",
    "    k = number of bits drawn that are 1\n",
    "    '''\n",
    "\n",
    "    result = comb(K,k)*comb((N-K), (n-k))/comb(N,n)\n",
    "    return result\n",
    "    "
   ]
  },
  {
   "cell_type": "code",
   "execution_count": 45,
   "metadata": {},
   "outputs": [
    {
     "name": "stdout",
     "output_type": "stream",
     "text": [
      "Verifying the correctness of function with k=2,3,4 in lady drinking tea example from class.\n",
      "-------------------------------------------------------------------------------------------\n",
      "When K = 2 function return probability: 0.5142857142857142 , actually probabiliy: 0.5142857142857142\n",
      "When K = 3 function return probability: 0.22857142857142856 , actually probabiliy: 0.22857142857142856\n",
      "When K = 4 function return probability: 0.014285714285714285 , actually probabiliy: 0.014285714285714285\n"
     ]
    }
   ],
   "source": [
    "print(\"Verifying the correctness of function with k=2,3,4 in lady drinking tea example from class.\")\n",
    "print(\"-------------------------------------------------------------------------------------------\")\n",
    "X = [2,3,4]\n",
    "actual = [36/70, 16/70, 1/70]\n",
    "for x in X:\n",
    "    print(\"When K =\",x, \"function return probability:\",hypergeometric(8,4,4,x), \", actually probabiliy:\", actual[x-2])\n",
    "\n"
   ]
  },
  {
   "cell_type": "markdown",
   "metadata": {},
   "source": [
    "**1b) You are running an internet security firm trying to catch packets sent to a server by\n",
    "hackers. There are 100 packets sent to the server, with 10 of them from hackers, 90 from\n",
    "legitimate traffic. If you sample 50 packets at random, what is the probability that you\n",
    "will capture all 10 packets from the hackers?**\n",
    "\n",
    "Solution: \n",
    "\n",
    "    In this case, N is the total number of available packets, which is 100, K is the total number of packets from hackers, which is 10. n is the sample packets we drew in random, which is 50. k is the number of packets we want to capture, which is also 10. By calling `hypergeometric(100,10,50,10)` as shown below, we know that the probability that I will capture all 10 packets from the hackers is **0.0005934196725858289**."
   ]
  },
  {
   "cell_type": "code",
   "execution_count": 46,
   "metadata": {},
   "outputs": [
    {
     "data": {
      "text/plain": [
       "0.0005934196725858289"
      ]
     },
     "execution_count": 46,
     "metadata": {},
     "output_type": "execute_result"
    }
   ],
   "source": [
    "#1b \n",
    "hypergeometric(100,10,50,10)"
   ]
  },
  {
   "cell_type": "markdown",
   "metadata": {},
   "source": [
    "**1c) What is the chance that you will capture at least half of the hackers’ packets? That is,\n",
    "what is P(X ≥ 5)? Hint: You are going to need to sum probabilities from multiple\n",
    "calls to your function.**\n",
    "\n",
    "Solution: \n",
    "\n",
    "    To find p(X>=5), we need to find the sum of p(x=5), p(x=6),... up to p(x=10). Using the code shown below, the probability of capturing at least half of the hackers' packets is 0.6296667731127679."
   ]
  },
  {
   "cell_type": "code",
   "execution_count": 47,
   "metadata": {},
   "outputs": [
    {
     "name": "stdout",
     "output_type": "stream",
     "text": [
      "0.6296667731127679\n"
     ]
    }
   ],
   "source": [
    "#1c\n",
    "result=0\n",
    "for x in range(5,11):\n",
    "    result = result + hypergeometric(100,10,50,x)\n",
    "print(result)"
   ]
  },
  {
   "cell_type": "markdown",
   "metadata": {},
   "source": [
    "## 2.  Test a hypotheses about cardiac measurements "
   ]
  },
  {
   "cell_type": "markdown",
   "metadata": {},
   "source": [
    "**Problem Description:**\n",
    "\n",
    "Here we are going to test a hypotheses about cardiac measurements from the following data:\n",
    "http://www.stat.ucla.edu/projects/datasets/cardiac.dat\n",
    "Download this data set and load it into Python. It is just a CSV file, so you can load it the same way you have in the previous homework.\n",
    "\n",
    "To understand what the variables mean, read the description of the data set here:\n",
    "http://www.stat.ucla.edu/projects/datasets/cardiac-explanation.html\n",
    "\n",
    "- You want to test the hypothesis that **women are more likely to have hypertension (high blood pressure) than men**. Hypertension is the variable **hxofHT** (be careful, **hxofHT = 0** indicates they **do** have hypertension) and **gender is male = 0, female = 1**.\n",
    "\n",
    "- (a) What is the 2 × 2 contingency table for this data? The rows of your table should be gender and the columns should be hxofHT. The four entries of the table will be counts from the data. For example, one entry will count the number of people who are both women (gender = 1) and have hypertension (hxofHT = 0), etc.\n",
    "\n",
    "- (b) Using your hypergeometric probability function from the previous question, compute the probability of getting exactly this table.\n",
    "\n",
    "- (c) If you want to test if women have hypertension more frequently than men, what is the null hypothesis?\n",
    "\n",
    "- (d) Again, using your hypergeometric probability function, perform the Fisher exact test to get a p value for the hypothesis that women have hypertension more frequently than men. Can you “reject the null hypothesis” with the threshold p ≤ 0.05?\n",
    "    "
   ]
  },
  {
   "cell_type": "code",
   "execution_count": 48,
   "metadata": {},
   "outputs": [
    {
     "data": {
      "text/html": [
       "<div>\n",
       "<style scoped>\n",
       "    .dataframe tbody tr th:only-of-type {\n",
       "        vertical-align: middle;\n",
       "    }\n",
       "\n",
       "    .dataframe tbody tr th {\n",
       "        vertical-align: top;\n",
       "    }\n",
       "\n",
       "    .dataframe thead th {\n",
       "        text-align: right;\n",
       "    }\n",
       "</style>\n",
       "<table border=\"1\" class=\"dataframe\">\n",
       "  <thead>\n",
       "    <tr style=\"text-align: right;\">\n",
       "      <th></th>\n",
       "      <th>bhr</th>\n",
       "      <th>basebp</th>\n",
       "      <th>basedp</th>\n",
       "      <th>pkhr</th>\n",
       "      <th>sbp</th>\n",
       "      <th>dp</th>\n",
       "      <th>dose</th>\n",
       "      <th>maxhr</th>\n",
       "      <th>%mphr(b)</th>\n",
       "      <th>mbp</th>\n",
       "      <th>...</th>\n",
       "      <th>phat</th>\n",
       "      <th>event(#)</th>\n",
       "      <th>mics</th>\n",
       "      <th>deltaEF</th>\n",
       "      <th>newpkmphr</th>\n",
       "      <th>gdpkmphr</th>\n",
       "      <th>gdmaxmphr</th>\n",
       "      <th>gddpeakdp</th>\n",
       "      <th>gdmaxdp</th>\n",
       "      <th>hardness</th>\n",
       "    </tr>\n",
       "  </thead>\n",
       "  <tbody>\n",
       "    <tr>\n",
       "      <th>0</th>\n",
       "      <td>92</td>\n",
       "      <td>103</td>\n",
       "      <td>9476</td>\n",
       "      <td>114</td>\n",
       "      <td>86</td>\n",
       "      <td>9804</td>\n",
       "      <td>40</td>\n",
       "      <td>100</td>\n",
       "      <td>74</td>\n",
       "      <td>121</td>\n",
       "      <td>...</td>\n",
       "      <td>0.500272</td>\n",
       "      <td>0</td>\n",
       "      <td>1</td>\n",
       "      <td>5</td>\n",
       "      <td>84.44444</td>\n",
       "      <td>0</td>\n",
       "      <td>0</td>\n",
       "      <td>0</td>\n",
       "      <td>0</td>\n",
       "      <td>2</td>\n",
       "    </tr>\n",
       "    <tr>\n",
       "      <th>1</th>\n",
       "      <td>62</td>\n",
       "      <td>139</td>\n",
       "      <td>8618</td>\n",
       "      <td>120</td>\n",
       "      <td>158</td>\n",
       "      <td>18960</td>\n",
       "      <td>40</td>\n",
       "      <td>120</td>\n",
       "      <td>82</td>\n",
       "      <td>158</td>\n",
       "      <td>...</td>\n",
       "      <td>0.548361</td>\n",
       "      <td>1</td>\n",
       "      <td>1</td>\n",
       "      <td>1</td>\n",
       "      <td>81.63265</td>\n",
       "      <td>0</td>\n",
       "      <td>0</td>\n",
       "      <td>0</td>\n",
       "      <td>0</td>\n",
       "      <td>0</td>\n",
       "    </tr>\n",
       "    <tr>\n",
       "      <th>2</th>\n",
       "      <td>62</td>\n",
       "      <td>139</td>\n",
       "      <td>8618</td>\n",
       "      <td>120</td>\n",
       "      <td>157</td>\n",
       "      <td>18840</td>\n",
       "      <td>40</td>\n",
       "      <td>120</td>\n",
       "      <td>82</td>\n",
       "      <td>157</td>\n",
       "      <td>...</td>\n",
       "      <td>0.548361</td>\n",
       "      <td>1</td>\n",
       "      <td>1</td>\n",
       "      <td>1</td>\n",
       "      <td>81.63265</td>\n",
       "      <td>0</td>\n",
       "      <td>0</td>\n",
       "      <td>0</td>\n",
       "      <td>0</td>\n",
       "      <td>0</td>\n",
       "    </tr>\n",
       "    <tr>\n",
       "      <th>3</th>\n",
       "      <td>93</td>\n",
       "      <td>118</td>\n",
       "      <td>10974</td>\n",
       "      <td>118</td>\n",
       "      <td>105</td>\n",
       "      <td>12390</td>\n",
       "      <td>30</td>\n",
       "      <td>118</td>\n",
       "      <td>72</td>\n",
       "      <td>105</td>\n",
       "      <td>...</td>\n",
       "      <td>0.646591</td>\n",
       "      <td>0</td>\n",
       "      <td>1</td>\n",
       "      <td>15</td>\n",
       "      <td>72.39264</td>\n",
       "      <td>0</td>\n",
       "      <td>0</td>\n",
       "      <td>0</td>\n",
       "      <td>0</td>\n",
       "      <td>2</td>\n",
       "    </tr>\n",
       "    <tr>\n",
       "      <th>4</th>\n",
       "      <td>89</td>\n",
       "      <td>103</td>\n",
       "      <td>9167</td>\n",
       "      <td>129</td>\n",
       "      <td>173</td>\n",
       "      <td>22317</td>\n",
       "      <td>40</td>\n",
       "      <td>129</td>\n",
       "      <td>69</td>\n",
       "      <td>176</td>\n",
       "      <td>...</td>\n",
       "      <td>0.522896</td>\n",
       "      <td>0</td>\n",
       "      <td>1</td>\n",
       "      <td>12</td>\n",
       "      <td>69.35484</td>\n",
       "      <td>0</td>\n",
       "      <td>0</td>\n",
       "      <td>1</td>\n",
       "      <td>1</td>\n",
       "      <td>2</td>\n",
       "    </tr>\n",
       "  </tbody>\n",
       "</table>\n",
       "<p>5 rows × 42 columns</p>\n",
       "</div>"
      ],
      "text/plain": [
       "   bhr  basebp  basedp  pkhr  sbp     dp  dose  maxhr  %mphr(b)  mbp  \\\n",
       "0   92     103    9476   114   86   9804    40    100        74  121   \n",
       "1   62     139    8618   120  158  18960    40    120        82  158   \n",
       "2   62     139    8618   120  157  18840    40    120        82  157   \n",
       "3   93     118   10974   118  105  12390    30    118        72  105   \n",
       "4   89     103    9167   129  173  22317    40    129        69  176   \n",
       "\n",
       "     ...         phat  event(#)  mics  deltaEF  newpkmphr  gdpkmphr  \\\n",
       "0    ...     0.500272         0     1        5   84.44444         0   \n",
       "1    ...     0.548361         1     1        1   81.63265         0   \n",
       "2    ...     0.548361         1     1        1   81.63265         0   \n",
       "3    ...     0.646591         0     1       15   72.39264         0   \n",
       "4    ...     0.522896         0     1       12   69.35484         0   \n",
       "\n",
       "   gdmaxmphr  gddpeakdp  gdmaxdp  hardness  \n",
       "0          0          0        0         2  \n",
       "1          0          0        0         0  \n",
       "2          0          0        0         0  \n",
       "3          0          0        0         2  \n",
       "4          0          1        1         2  \n",
       "\n",
       "[5 rows x 42 columns]"
      ]
     },
     "execution_count": 48,
     "metadata": {},
     "output_type": "execute_result"
    }
   ],
   "source": [
    "import pandas as pd\n",
    "import matplotlib.pyplot as plt\n",
    "import seaborn as sns\n",
    "# Just some color options for seaborn plots\n",
    "sns.set(style=\"darkgrid\")\n",
    "sns.set_palette(\"Dark2\")\n",
    "\n",
    "df = pd.read_csv(\"cardiac.dat\")\n",
    "df.head(n=5)"
   ]
  },
  {
   "cell_type": "code",
   "execution_count": 49,
   "metadata": {},
   "outputs": [
    {
     "name": "stdout",
     "output_type": "stream",
     "text": [
      "\n",
      " n-k: 249 \n",
      " k: 89 \n",
      " N-n-K+k:  144 \n",
      " K-k: 76\n"
     ]
    }
   ],
   "source": [
    "#hxofHT\tPATIENT HAS HISTORY OF HYPERTENSION (0 = yes)\n",
    "#gender\tPATIENT'S GENDER (male = 0)\n",
    "#n-k\n",
    "women_with_h = sum((df['gender']==1) & (df['hxofHT']==0))\n",
    "#k\n",
    "women_wout_h = sum((df['gender']==1) & (df['hxofHT']==1))\n",
    "#N-n-K+k\n",
    "men_with_h = sum((df['gender']==0) & (df['hxofHT']==0))\n",
    "#K-k\n",
    "men_wout_h = sum((df['gender']==0) & (df['hxofHT']==1))\n",
    "print(\"\\n n-k:\",women_with_h,\"\\n k:\", women_wout_h, \"\\n N-n-K+k: \",men_with_h, \"\\n K-k:\",men_wout_h)\n"
   ]
  },
  {
   "cell_type": "markdown",
   "metadata": {},
   "source": [
    "##### 2a) 2x2 contingency table\n",
    "|gender\\hoxofHT|1 (noHT) |0 (HT)|\n",
    "|-|-|-|\n",
    "|1 (women)|89 | 249 |\n",
    "|0 (men)|76 |144 |\n",
    "\n"
   ]
  },
  {
   "cell_type": "code",
   "execution_count": 50,
   "metadata": {},
   "outputs": [
    {
     "name": "stdout",
     "output_type": "stream",
     "text": [
      "The probability of getting exactly this table is: 0.008846092806851051\n"
     ]
    }
   ],
   "source": [
    "# 2c\n",
    "K = 76+89\n",
    "n = 249+89\n",
    "k = 89\n",
    "N = 144+n+K-k\n",
    "\n",
    "print(\"The probability of getting exactly this table is:\", hypergeometric(N,K,n,k))"
   ]
  },
  {
   "cell_type": "markdown",
   "metadata": {},
   "source": [
    "**2c) Null hypothesis is \"women and men have the same probability of having hypertension.\"**\n"
   ]
  },
  {
   "cell_type": "code",
   "execution_count": 51,
   "metadata": {},
   "outputs": [
    {
     "name": "stdout",
     "output_type": "stream",
     "text": [
      "\n",
      " The probability of getting a more suprising result is: 0.039883557401946185 \n",
      " Because the p value of getting a more surprising result, where k is increased to 94 and the other parameters are the same as they are in the contigency table, is less than 0.05, we reject the null hypothesis.\n"
     ]
    }
   ],
   "source": [
    "# 2d)\n",
    "print(\"\\n The probability of getting a more suprising result is:\", hypergeometric(N,K,n,k+5),\"\\n Because the p value of getting a more surprising result, where k is increased to 94 and the other parameters are the same as they are in the contigency table, is less than 0.05, we reject the null hypothesis.\")\n"
   ]
  },
  {
   "cell_type": "markdown",
   "metadata": {},
   "source": [
    "## 3. Bayesian hypothesis test\n",
    "\n",
    "Now we are going to do a Bayesian hypothesis test of the difference in two Bernoulli random variables, X1 ∼ Ber(θ1) and X2 ∼ Ber(θ2). Remember from the lecture that given data, we write k1 and k2 for the total number of ones observed for n1 samples from X1 and n2 samples from X2, respectively. Assuming a uniform prior for θ1 and θ2, remember the posterior distributions are\n",
    "\n",
    "\n",
    "θ1| k1 ∼ Beta(k1 + 1, n1 − k1 + 1)\n",
    "\n",
    "θ2| k2 ∼ Beta(k2 + 1, n2 − k2 + 1)\n",
    "\n",
    "- (a) Model women getting hypertension as X1 and men getting hypertension as X2. Using the same data as above, what is the posterior probability that women have a higher chance of hypertension? In other words, use sampling from the Beta distribution posteriors above to estimate the probability: `P(θ1 > θ2 | k1, k2)` You should use at least 1 million samples to estimate this. How does this compare to the Fisher exact test result that you got above?\n",
    "\n",
    "- (b) Do the same analysis for our dementia classifier from HW 1. In that example, the classifier gets 31 out of 46 dementia cases correct and 51 out of 67 healthy cases correct. Model the classifier labels for the true dementia cases as X1, and the classifier labels for the true healthy cases as X2. In both, we’ll stick to the convention that Xi = 0 means the classifier labeled it as healthy and Xi = 1 means the classifier labeled it as dementia. What is the probability that the classifier is more likely to label dementia as dementia than it is to label healthy as dementia?"
   ]
  },
  {
   "cell_type": "code",
   "execution_count": 52,
   "metadata": {},
   "outputs": [],
   "source": [
    "import numpy as np\n",
    "import math\n",
    "import scipy as sp\n",
    "import pandas as pd"
   ]
  },
  {
   "cell_type": "code",
   "execution_count": 53,
   "metadata": {},
   "outputs": [
    {
     "name": "stdout",
     "output_type": "stream",
     "text": [
      "\n",
      " Estimated probability of women having a higher chance of hypertension is: 0.981077\n",
      "\n",
      " With the probability from the Beta distribution posteriors, we know that the probability of women having a higher chance of hypertension is around 98%, which supports our conclusion from the Fisher exact test.\n"
     ]
    }
   ],
   "source": [
    "# 2a) \n",
    "# k1: women with hypertension\n",
    "# k2: men with hypertension\n",
    "# n1: total number of women in sample\n",
    "# n2: total number of men in sample\n",
    "counter = 0\n",
    "numSimulations = 10**6\n",
    "k1 = sum((df['gender']==1) & (df['hxofHT']==0)) \n",
    "n1 = sum(df['gender']==1)\n",
    "k2 = sum((df['gender']==0) & (df['hxofHT']==0))\n",
    "n2 = sum(df['gender']==0)\n",
    "for i in range(numSimulations):\n",
    "    theta1 = np.random.beta(k1+1, n1-k1+1)\n",
    "    theta2 = np.random.beta(k2+1,n2-k2+1)\n",
    "    if theta1 > theta2:\n",
    "        counter +=1\n",
    "estProb = counter / numSimulations\n",
    "print(\"\\n Estimated probability of women having a higher chance of hypertension is:\", estProb)\n",
    "print(\"\\n With the probability from the Beta distribution posteriors, we know that the probability of women having a higher chance of hypertension is around 98%, which supports our conclusion from the Fisher exact test.\")\n"
   ]
  },
  {
   "cell_type": "code",
   "execution_count": 57,
   "metadata": {},
   "outputs": [
    {
     "name": "stdout",
     "output_type": "stream",
     "text": [
      "Estimated probability that the classifier is more likely to label dementia as dementia than it is to label healthy as dementia is: 0.999999\n"
     ]
    }
   ],
   "source": [
    "# 3b) \n",
    "# k1: predicted dementia as dementia\n",
    "# k2: predicted healthy as dementia\n",
    "# n1: total number of dementia sample\n",
    "# n2: total number of healthy sample\n",
    "counter = 0\n",
    "numSimulations = 10**6\n",
    "n1 = 46\n",
    "n2 = 67\n",
    "k1 = 31\n",
    "k2 = 67 - 51\n",
    "\n",
    "for i in range(numSimulations):\n",
    "    theta1 = np.random.beta(k1+1, n1-k1+1)\n",
    "    theta2 = np.random.beta(k2+1,n2-k2+1)\n",
    "    if theta1 > theta2:\n",
    "        counter +=1\n",
    "estProb2 = counter / numSimulations\n",
    "print(\"Estimated probability that the classifier is more likely to label dementia as dementia than it is to label healthy as dementia is:\", estProb2)"
   ]
  },
  {
   "cell_type": "code",
   "execution_count": null,
   "metadata": {},
   "outputs": [],
   "source": []
  }
 ],
 "metadata": {
  "kernelspec": {
   "display_name": "Python 3",
   "language": "python",
   "name": "python3"
  },
  "language_info": {
   "codemirror_mode": {
    "name": "ipython",
    "version": 3
   },
   "file_extension": ".py",
   "mimetype": "text/x-python",
   "name": "python",
   "nbconvert_exporter": "python",
   "pygments_lexer": "ipython3",
   "version": "3.7.1"
  }
 },
 "nbformat": 4,
 "nbformat_minor": 2
}
