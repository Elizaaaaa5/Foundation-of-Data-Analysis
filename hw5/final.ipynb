{
 "cells": [
  {
   "cell_type": "markdown",
   "metadata": {},
   "source": [
    "# Final "
   ]
  },
  {
   "cell_type": "code",
   "execution_count": 289,
   "metadata": {},
   "outputs": [],
   "source": [
    "import pandas as pd\n",
    "import matplotlib.pyplot as plt\n",
    "import seaborn as sns\n",
    "import numpy as np\n",
    "import math\n",
    "import scipy as sp\n",
    "import random\n",
    "from numpy import linalg as LA\n",
    "\n",
    "# Just some color options for seaborn plots\n",
    "sns.set(style=\"darkgrid\")\n",
    "sns.set_palette(\"Dark2\")\n"
   ]
  },
  {
   "cell_type": "markdown",
   "metadata": {},
   "source": [
    "# 1) Test accuracy"
   ]
  },
  {
   "cell_type": "code",
   "execution_count": 34,
   "metadata": {},
   "outputs": [],
   "source": [
    "def loglik(w, X, y):\n",
    "    z = X.dot(w)\n",
    "    return (z.dot(y - 1) - sum(np.log(1 + np.exp(-z))))\n",
    "\n",
    "def gradLL(w, X, y):\n",
    "    h = np.exp(-X.dot(w))\n",
    "    return ((y - 1) + h / (1 + h)).dot(X)\n"
   ]
  },
  {
   "cell_type": "code",
   "execution_count": 286,
   "metadata": {},
   "outputs": [
    {
     "name": "stdout",
     "output_type": "stream",
     "text": [
      "(3851, 785) (3851,)\n"
     ]
    }
   ],
   "source": [
    "# load and scale data\n",
    "\n",
    "data = np.load(\"mnist.npz\")\n",
    "x_train = data['x_train']\n",
    "y_train = data['y_train']\n",
    "x_test = data['x_test']\n",
    "y_test = data['y_test']\n",
    "\n",
    "# Define two classes\n",
    "c3 = 3\n",
    "c5 = 5\n",
    "\n",
    "X = x_train.reshape((x_train.shape[0], 28*28))\n",
    "keep = (y_train == c3) | (y_train == c5)\n",
    "X = X[keep,:] / 255\n",
    "y = y_train[keep].astype(float)\n",
    "\n",
    "y = (y == c5).astype(float)\n",
    "\n",
    "n = X.shape[0]\n",
    "\n",
    "# Add a column of ones to X\n",
    "X = np.concatenate((np.ones(n).reshape(n, 1), X), axis = 1)\n",
    "\n",
    "d = X.shape[1]\n",
    "\n",
    "print(X.shape, y.shape)"
   ]
  },
  {
   "cell_type": "code",
   "execution_count": 240,
   "metadata": {},
   "outputs": [
    {
     "name": "stdout",
     "output_type": "stream",
     "text": [
      "-118738.64217295269 (log-lik) :  14935.237993362633 (grad)\n",
      "-378.1286258491782 (log-lik) :  35.82827830327301 (grad)\n",
      "-319.2139159517137 (log-lik) :  21.32026779100607 (grad)\n",
      "-290.9600176019758 (log-lik) :  16.76535785293054 (grad)\n",
      "-271.80290008821066 (log-lik) :  14.336361932955805 (grad)\n",
      "-257.2557027250441 (log-lik) :  12.704795474243372 (grad)\n",
      "-245.56867805223192 (log-lik) :  11.513822485223423 (grad)\n",
      "-235.80771174280744 (log-lik) :  10.60766724846068 (grad)\n",
      "-227.4203392219806 (log-lik) :  9.890544831799835 (grad)\n",
      "-220.06275845773962 (log-lik) :  9.303226219785163 (grad)\n",
      "-213.50876933762993 (log-lik) :  8.809021452470802 (grad)\n",
      "-207.60149518639446 (log-lik) :  8.384430568878875 (grad)\n",
      "-202.22718714909934 (log-lik) :  8.013746148487737 (grad)\n",
      "-197.30033792231188 (log-lik) :  7.6860210986571476 (grad)\n",
      "-192.75478076691434 (log-lik) :  7.393334250290109 (grad)\n",
      "-188.53810545503075 (log-lik) :  7.129764238577669 (grad)\n",
      "-184.60800258700328 (log-lik) :  6.890758843819259 (grad)\n",
      "-180.92978036629938 (log-lik) :  6.672733098043337 (grad)\n",
      "-177.47462297119273 (log-lik) :  6.472804981794616 (grad)\n",
      "-174.2183343146571 (log-lik) :  6.288616841778995 (grad)\n",
      "-171.1404091710756 (log-lik) :  6.118211761179141 (grad)\n",
      "-168.22333113735294 (log-lik) :  5.959945981260036 (grad)\n",
      "-165.4520316962844 (log-lik) :  5.812425463128502 (grad)\n",
      "-162.81346631492488 (log-lik) :  5.674458938026855 (grad)\n",
      "-160.29627732793233 (log-lik) :  5.54502244042037 (grad)\n",
      "-157.8905223798356 (log-lik) :  5.423231977908365 (grad)\n",
      "-155.58745325259952 (log-lik) :  5.308322042513021 (grad)\n",
      "-153.37933404531577 (log-lik) :  5.199628345405652 (grad)\n",
      "-151.2592905826932 (log-lik) :  5.096573612057731 (grad)\n",
      "-149.22118499122735 (log-lik) :  4.99865560104651 (grad)\n",
      "-147.25951085753331 (log-lik) :  4.905436761240866 (grad)\n",
      "-145.36930543091876 (log-lik) :  4.816535144005969 (grad)\n",
      "-143.54607606379432 (log-lik) :  4.731616345800426 (grad)\n",
      "-141.7857385983334 (log-lik) :  4.650386369936113 (grad)\n",
      "-140.08456576582103 (log-lik) :  4.57258536270163 (grad)\n",
      "-138.43914394052263 (log-lik) :  4.49798220301696 (grad)\n",
      "-136.84633681113337 (log-lik) :  4.426369917653498 (grad)\n",
      "-135.3032547340008 (log-lik) :  4.357561870798157 (grad)\n",
      "-133.80722872148908 (log-lik) :  4.291388651296713 (grad)\n",
      "-132.35578819613875 (log-lik) :  4.227695562700306 (grad)\n",
      "-130.9466418023767 (log-lik) :  4.166340614127853 (grad)\n",
      "-129.57766071206788 (log-lik) :  4.107192913321776 (grad)\n",
      "-128.24686397811456 (log-lik) :  4.050131374023129 (grad)\n",
      "-126.9524055885704 (log-lik) :  3.995043664254199 (grad)\n",
      "-125.69256294893785 (log-lik) :  3.9418253372168683 (grad)\n",
      "-124.46572658124205 (log-lik) :  3.8903791003125505 (grad)\n",
      "-123.27039086758305 (log-lik) :  3.8406141893042136 (grad)\n",
      "-122.10514570468149 (log-lik) :  3.7924458236585816 (grad)\n",
      "-120.96866895665516 (log-lik) :  3.7457947258429773 (grad)\n",
      "-119.85971961291216 (log-lik) :  3.700586692211514 (grad)\n"
     ]
    }
   ],
   "source": [
    "\n",
    "w = np.random.rand(d)\n",
    "\n",
    "logL = []\n",
    "\n",
    "delta = 0.0004\n",
    "epsilon = 0.02\n",
    "gnorm = 1\n",
    "maxIter = 10000\n",
    "i = 0\n",
    "\n",
    "while (gnorm > epsilon) & (i < maxIter):\n",
    "    grad = gradLL(w, X, y)\n",
    "    gnorm = np.linalg.norm(grad)\n",
    "    logL = np.append(logL, loglik(w, X, y))\n",
    "    if i%200 == 0:\n",
    "        print(logL[i], \"(log-lik) : \", gnorm, \"(grad)\")\n",
    "    i += 1\n",
    "    w += delta * grad\n",
    "\n"
   ]
  },
  {
   "cell_type": "code",
   "execution_count": 241,
   "metadata": {},
   "outputs": [
    {
     "data": {
      "image/png": "[encoded data removed]",
      "text/plain": [
       "<Figure size 720x288 with 1 Axes>"
      ]
     },
     "metadata": {
      "needs_background": "light"
     },
     "output_type": "display_data"
    }
   ],
   "source": [
    "fig = plt.figure(figsize=(10,4))\n",
    "ax = fig.add_subplot(121)\n",
    "ax.plot(logL)\n",
    "plt.xlabel(\"Iteration\")\n",
    "plt.ylabel(\"Log-likelihood\")\n",
    "plt.show()"
   ]
  },
  {
   "cell_type": "code",
   "execution_count": 261,
   "metadata": {},
   "outputs": [
    {
     "name": "stdout",
     "output_type": "stream",
     "text": [
      "Test accuracy: 0.953732912723449\n"
     ]
    }
   ],
   "source": [
    "X_test = x_test.reshape((x_test.shape[0], 28*28))\n",
    "keep = (y_test == c3) | (y_test == c5)\n",
    "X_test = X_test[keep,:] / 255\n",
    "y_t = y_test[keep].astype(float)\n",
    "\n",
    "y_t = (y_t == c5).astype(float)\n",
    "\n",
    "n_test = X_test.shape[0]\n",
    "\n",
    "# Add a column of ones to X\n",
    "X_test = np.concatenate((np.ones(n_test).reshape(n_test, 1), X_test), axis = 1)\n",
    "\n",
    "y_prob = 1 / (1 + np.exp(-X_test.dot(w)))\n",
    "\n",
    "print(\"Test accuracy:\", 1 - sum(np.around(y_prob) != y_t)/n_test)"
   ]
  },
  {
   "cell_type": "markdown",
   "metadata": {},
   "source": [
    "# 2) "
   ]
  },
  {
   "cell_type": "code",
   "execution_count": 377,
   "metadata": {},
   "outputs": [],
   "source": [
    "def aSigmoid(t):\n",
    "    return np.exp(-t)/(1+np.exp(-t))\n",
    "\n",
    "def sigmoid(t):\n",
    "    return 1 / (1 + np.exp(-t))\n",
    "\n",
    "def dsigmoid(t):\n",
    "    return np.exp(-t) / (1 + np.exp(-t))**2\n",
    "\n",
    "def relu(t):\n",
    "    return np.maximum(0, t)\n",
    "\n",
    "def drelu(t):\n",
    "    return np.clip(np.sign(t), a_min = 0, a_max = None)\n",
    "\n",
    "\n",
    "def layer1(x, w1):\n",
    "    return sigmoid(x.dot(w1))\n",
    "\n",
    "def layer2(z,w2):\n",
    "    n = z.shape[0]\n",
    "    z = np.concatenate((np.ones(n).reshape(n, 1), z), axis = 1)\n",
    "    return sigmoid(z.dot(w2))\n",
    "    \n",
    "def feedforward(x,w1,w2):\n",
    "    return layer2(layer1(x, w1), w2)\n",
    "\n",
    "def gradW1(w1, w2, X, y):\n",
    "    new_w2 = w2[1:]\n",
    "    Z = layer1(X, w1)\n",
    "    t = Z.dot(new_w2)\n",
    "    first = ((y-1) + aSigmoid(t)).reshape(len(y),1).dot(new_w2.reshape(1,len(new_w2)))/len(y)\n",
    "\n",
    "    second = sigmoid(X.dot(w1))\n",
    "\n",
    "    return X.T.dot(np.multiply(first,second))\n",
    "\n",
    "def gradW2(w1, w2, Z, y):\n",
    "    return ((y-1) + aSigmoid(Z.dot(w2))).dot(Z)/len(y)\n"
   ]
  },
  {
   "cell_type": "markdown",
   "metadata": {},
   "source": [
    "# 3)"
   ]
  },
  {
   "cell_type": "code",
   "execution_count": 418,
   "metadata": {},
   "outputs": [],
   "source": [
    "def grad(m):\n",
    "    w1 = np.random.uniform(low=-0.5, high=0.5, size=(d, m))\n",
    "    w2 = np.random.uniform(low=-0.5, high=0.5, size=(m+1, ))\n",
    "    logLike = []\n",
    "    maxIter = 1000\n",
    "    delta1 = 0.4\n",
    "    delta2 = 0.4\n",
    "    \n",
    "    for i in range(maxIter):\n",
    "        Z = layer1(X, w1)\n",
    "        n = Z.shape[0]\n",
    "        Z = np.concatenate((np.ones(n).reshape(n, 1), Z), axis = 1)\n",
    "        logLike.append(loglik(w2, Z, y))\n",
    "        grad2 = gradW2(w1, w2, Z, y)\n",
    "        w2 = w2 + delta2 * grad2\n",
    "        \n",
    "        grad1 = gradW1(w1, w2, X, y)\n",
    "        w1 = w1 + delta1 * grad1\n",
    "    \n",
    "    \n",
    "    return np.array(logLike)/n, w1, w2\n"
   ]
  },
  {
   "cell_type": "markdown",
   "metadata": {},
   "source": [
    "# 4)"
   ]
  },
  {
   "cell_type": "code",
   "execution_count": 426,
   "metadata": {},
   "outputs": [
    {
     "data": {
      "image/png": "[encoded data removed]",
      "text/plain": [
       "<Figure size 720x288 with 1 Axes>"
      ]
     },
     "metadata": {},
     "output_type": "display_data"
    }
   ],
   "source": [
    "loglike2,w1_2,w2_2 = grad(2)\n",
    "fig = plt.figure(figsize=(10,4))\n",
    "ax = fig.add_subplot(121)\n",
    "ax.plot(loglike2)\n",
    "plt.xlabel(\"Iteration\")\n",
    "plt.ylabel(\"Log-likelihood\")\n",
    "plt.show()"
   ]
  },
  {
   "cell_type": "code",
   "execution_count": 420,
   "metadata": {},
   "outputs": [
    {
     "data": {
      "image/png": "[encoded data removed]",
      "text/plain": [
       "<Figure size 720x288 with 1 Axes>"
      ]
     },
     "metadata": {},
     "output_type": "display_data"
    }
   ],
   "source": [
    "loglike10,w1_10,w2_10 = grad(10)\n",
    "fig = plt.figure(figsize=(10,4))\n",
    "ax = fig.add_subplot(121)\n",
    "ax.plot(loglike10)\n",
    "plt.xlabel(\"Iteration\")\n",
    "plt.ylabel(\"Log-likelihood\")\n",
    "plt.show()"
   ]
  },
  {
   "cell_type": "code",
   "execution_count": 432,
   "metadata": {},
   "outputs": [
    {
     "data": {
      "image/png": "[encoded data removed]",
      "text/plain": [
       "<Figure size 720x288 with 1 Axes>"
      ]
     },
     "metadata": {},
     "output_type": "display_data"
    }
   ],
   "source": [
    "loglike40,w1_40,w2_40 = grad(40)\n",
    "fig = plt.figure(figsize=(10,4))\n",
    "ax = fig.add_subplot(121)\n",
    "ax.plot(loglike40)\n",
    "plt.xlabel(\"Iteration\")\n",
    "plt.ylabel(\"Log-likelihood\")\n",
    "plt.show()"
   ]
  },
  {
   "cell_type": "code",
   "execution_count": 476,
   "metadata": {},
   "outputs": [
    {
     "name": "stdout",
     "output_type": "stream",
     "text": [
      "m=2 iteration 1000 log-likelihood:  -0.18375207405078822\n",
      "m=10 iteration 1000 log-likelihood:  -0.07196596030624566\n",
      "m=40 iteration 1000 log-likelihood:  -0.045376767124128865\n"
     ]
    }
   ],
   "source": [
    "print(\"m=2 iteration 1000 log-likelihood: \", loglike2[999])\n",
    "print(\"m=10 iteration 1000 log-likelihood: \", loglike10[999])\n",
    "print(\"m=40 iteration 1000 log-likelihood: \", loglike40[999])"
   ]
  },
  {
   "cell_type": "markdown",
   "metadata": {},
   "source": [
    "**Runtime seems to be slightly longer because my computer fan was getting louder when m increases. Log-likelihood converges faster with larger m.**"
   ]
  },
  {
   "cell_type": "code",
   "execution_count": 447,
   "metadata": {},
   "outputs": [
    {
     "name": "stdout",
     "output_type": "stream",
     "text": [
      "1756 dignoses out of a total of 1902 tests were accurate.\n",
      "Accuracy for m = 2 is:  92.32386961093586 %.\n"
     ]
    }
   ],
   "source": [
    "X_test = x_test.reshape((x_test.shape[0], 28*28))\n",
    "keep = (y_test == c3) | (y_test == c5)\n",
    "X_test = X_test[keep,:] / 255\n",
    "y_t2 = y_test[keep].astype(float)\n",
    "\n",
    "# y_t = (y_t == c5).astype(float)\n",
    "\n",
    "n_test = X_test.shape[0]\n",
    "\n",
    "# Add a column of ones to X\n",
    "X_test = np.concatenate((np.ones(n_test).reshape(n_test, 1), X_test), axis = 1)\n",
    "p = feedforward(X_test,w1_2,w2_2).reshape(len(y_t2),1)\n",
    "correct=0\n",
    "for i in range(n_test):\n",
    "    if p[i] > 0.5:\n",
    "        if y_t2[i]==5:\n",
    "            correct += 1\n",
    "    elif p[i] <= 0.5:\n",
    "        if y_t2[i]==3:\n",
    "            correct += 1\n",
    "acc = correct/(n_test)*100\n",
    "print (correct, \"dignoses out of a total of\",n_test,\"tests were accurate.\")\n",
    "print(\"Accuracy for m = 2 is: \", acc, \"%.\")\n"
   ]
  },
  {
   "cell_type": "code",
   "execution_count": 448,
   "metadata": {},
   "outputs": [
    {
     "name": "stdout",
     "output_type": "stream",
     "text": [
      "1843 dignoses out of a total of 1902 tests were accurate.\n",
      "Accuracy for m = 10 is:  96.89800210304942 %.\n"
     ]
    }
   ],
   "source": [
    "p10 = feedforward(X_test,w1_10,w2_10).reshape(len(y_t2),1)\n",
    "correct=0\n",
    "for i in range(n_test):\n",
    "    if p10[i] > 0.5:\n",
    "        if y_t2[i]==5:\n",
    "            correct += 1\n",
    "    elif p10[i] <= 0.5:\n",
    "        if y_t2[i]==3:\n",
    "            correct += 1\n",
    "acc = correct/(n_test)*100\n",
    "print (correct, \"dignoses out of a total of\",n_test,\"tests were accurate.\")\n",
    "print(\"Accuracy for m = 10 is: \", acc, \"%.\")"
   ]
  },
  {
   "cell_type": "code",
   "execution_count": 449,
   "metadata": {},
   "outputs": [
    {
     "name": "stdout",
     "output_type": "stream",
     "text": [
      "1854 dignoses out of a total of 1902 tests were accurate.\n",
      "Accuracy for m = 40 is:  97.47634069400631 %.\n"
     ]
    }
   ],
   "source": [
    "p40 = feedforward(X_test,w1_40,w2_40).reshape(len(y_t2),1)\n",
    "correct=0\n",
    "for i in range(n_test):\n",
    "    if p40[i] > 0.5:\n",
    "        if y_t2[i]==5:\n",
    "            correct += 1\n",
    "    elif p40[i] <= 0.5:\n",
    "        if y_t2[i]==3:\n",
    "            correct += 1\n",
    "acc = correct/(n_test)*100\n",
    "print (correct, \"dignoses out of a total of\",n_test,\"tests were accurate.\")\n",
    "print(\"Accuracy for m = 40 is: \", acc, \"%.\")"
   ]
  },
  {
   "cell_type": "markdown",
   "metadata": {},
   "source": [
    "**Compare to logistic regression we did in hw5, the accuray seems to be lower. But it could be because of the value of m and the number of iterations.**"
   ]
  },
  {
   "cell_type": "markdown",
   "metadata": {},
   "source": [
    "# 5)"
   ]
  },
  {
   "cell_type": "code",
   "execution_count": 477,
   "metadata": {},
   "outputs": [],
   "source": [
    "def relu(t):\n",
    "    return np.maximum(0, t)\n",
    "\n",
    "def drelu(t):\n",
    "    return np.clip(np.sign(t), a_min = 0, a_max = None)\n",
    "\n",
    "\n",
    "def re_layer1(x, w1):\n",
    "    return relu(x.dot(w1))\n",
    "    \n",
    "def newFeedForward(x,w1,w2):\n",
    "    return layer2(re_layer1(x, w1), w2)\n",
    "\n",
    "def re_gradW1(w1, w2, X, y):\n",
    "    new_w2 = w2[1:]\n",
    "    Z = re_layer1(X, w1)\n",
    "    t = Z.dot(new_w2)\n",
    "    first = ((y-1) + aSigmoid(t)).reshape(len(y),1).dot(new_w2.reshape(1,len(new_w2)))/len(y)\n",
    "\n",
    "    second = sigmoid(X.dot(w1))\n",
    "\n",
    "    return X.T.dot(np.multiply(first,second))\n",
    "\n",
    "def re_grad(m):\n",
    "    w1 = np.random.uniform(low=-0.5, high=0.5, size=(d, m))\n",
    "    w2 = np.random.uniform(low=-0.5, high=0.5, size=(m+1, ))\n",
    "    logLike = []\n",
    "    maxIter = 1000\n",
    "    delta1 = 0.4\n",
    "    delta2 = 0.4\n",
    "    \n",
    "    for i in range(maxIter):\n",
    "        Z = layer1(X, w1)\n",
    "        n = Z.shape[0]\n",
    "        Z = np.concatenate((np.ones(n).reshape(n, 1), Z), axis = 1)\n",
    "        logLike.append(loglik(w2, Z, y))\n",
    "        grad2 = gradW2(w1, w2, Z, y)\n",
    "        w2 = w2 + delta2 * grad2\n",
    "        \n",
    "        grad1 = gradW1(w1, w2, X, y)\n",
    "        w1 = w1 + delta1 * grad1\n",
    "    \n",
    "    \n",
    "    return np.array(logLike)/n, w1, w2\n",
    "\n",
    "    "
   ]
  },
  {
   "cell_type": "code",
   "execution_count": 472,
   "metadata": {},
   "outputs": [
    {
     "data": {
      "image/png": "[encoded data removed]",
      "text/plain": [
       "<Figure size 720x288 with 1 Axes>"
      ]
     },
     "metadata": {},
     "output_type": "display_data"
    }
   ],
   "source": [
    "re_loglike,re_w1,re_w2 = re_grad(40)\n",
    "fig = plt.figure(figsize=(10,4))\n",
    "ax = fig.add_subplot(121)\n",
    "ax.plot(re_loglike)\n",
    "plt.xlabel(\"Iteration\")\n",
    "plt.ylabel(\"Log-likelihood\")\n",
    "plt.show()"
   ]
  },
  {
   "cell_type": "code",
   "execution_count": 475,
   "metadata": {},
   "outputs": [
    {
     "name": "stdout",
     "output_type": "stream",
     "text": [
      "Relu iteration 1000 log-likelihood:  -0.05519668614401626\n"
     ]
    }
   ],
   "source": [
    "print(\"Relu iteration 1000 log-likelihood: \", re_loglike[999])"
   ]
  },
  {
   "cell_type": "code",
   "execution_count": 474,
   "metadata": {},
   "outputs": [
    {
     "name": "stdout",
     "output_type": "stream",
     "text": [
      "1842 dignoses out of a total of 1902 tests were accurate.\n",
      "Accuracy for m = 40 is:  96.84542586750788 %.\n"
     ]
    }
   ],
   "source": [
    "p_relu = feedforward(X_test,re_w1,re_w2).reshape(len(y_t2),1)\n",
    "correct=0\n",
    "for i in range(n_test):\n",
    "    if p_relu[i] > 0.5:\n",
    "        if y_t2[i]==5:\n",
    "            correct += 1\n",
    "    elif p_relu[i] <= 0.5:\n",
    "        if y_t2[i]==3:\n",
    "            correct += 1\n",
    "acc = correct/(n_test)*100\n",
    "print (correct, \"dignoses out of a total of\",n_test,\"tests were accurate.\")\n",
    "print(\"Accuracy for m = 40 is: \", acc, \"%.\")"
   ]
  },
  {
   "cell_type": "markdown",
   "metadata": {},
   "source": [
    "**Runtime seems to be faster than sigmoid, but the convergence rate and accuracy is lower compare to sigmoid activation.**"
   ]
  },
  {
   "cell_type": "code",
   "execution_count": null,
   "metadata": {},
   "outputs": [],
   "source": []
  }
 ],
 "metadata": {
  "kernelspec": {
   "display_name": "Python 3",
   "language": "python",
   "name": "python3"
  }
 },
 "nbformat": 4,
 "nbformat_minor": 2
}
